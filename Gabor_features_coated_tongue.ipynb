{
  "nbformat": 4,
  "nbformat_minor": 0,
  "metadata": {
    "colab": {
      "name": "Gabor features-coated tongue.ipynb",
      "provenance": [],
      "mount_file_id": "1LsUYgv_nNC4iMHgZmt67P_uEux99Z0Yh",
      "authorship_tag": "ABX9TyNerREXRLQ9U+WM/ZA15M77",
      "include_colab_link": true
    },
    "kernelspec": {
      "name": "python3",
      "display_name": "Python 3"
    },
    "language_info": {
      "name": "python"
    }
  },
  "cells": [
    {
      "cell_type": "markdown",
      "metadata": {
        "id": "view-in-github",
        "colab_type": "text"
      },
      "source": [
        "<a href=\"https://colab.research.google.com/github/jyotidabass/Gabor-features-coated-tongue/blob/main/Gabor_features_coated_tongue.ipynb\" target=\"_parent\"><img src=\"https://colab.research.google.com/assets/colab-badge.svg\" alt=\"Open In Colab\"/></a>"
      ]
    },
    {
      "cell_type": "code",
      "execution_count": 5,
      "metadata": {
        "colab": {
          "base_uri": "https://localhost:8080/"
        },
        "id": "UMZPZYP3ivO8",
        "outputId": "4adc1a68-c88b-446d-9c66-f3e51a17386a"
      },
      "outputs": [
        {
          "output_type": "stream",
          "name": "stdout",
          "text": [
            "Computation time is 37.26728677749634 seconds\n"
          ]
        }
      ],
      "source": [
        "#Features extracted from this are \"Local Energy\" and \"Mean Amplitude\" at different angles and wavelengths (frequencies)\n",
        "#Number of features extracted = number of angles chosen * number of wavelengths chosen\n",
        "\n",
        "import cv2\n",
        "import os\n",
        "import glob\n",
        "import numpy as np \n",
        "import matplotlib.pyplot as plt\n",
        "import time\n",
        "import csv\n",
        "\n",
        "tic=time.time()\n",
        "\n",
        "#Importing the images\n",
        "img_dir = \"/content/drive/MyDrive/TWO-CLASS COATED-UNCOATED/Train/Coated tongue\" # Enter Directory where all the images are stored\n",
        "data_path = os.path.join(img_dir,'*g')\n",
        "files = glob.glob(data_path)\n",
        "\n",
        "eo=len(files)\n",
        "\n",
        "img = []\n",
        "for f1 in files:\n",
        "    data = cv2.imread(f1)\n",
        "    img.append(data)\n",
        "\n",
        "gamma=0.5\n",
        "sigma=0.56\n",
        "theta_list=[0, np.pi, np.pi/2, np.pi/4, 3*np.pi/4] #Angles\n",
        "phi=0\n",
        "lamda_list=[2*np.pi/1, 2*np.pi/2, 2*np.pi/3, 2*np.pi/4, 2*np.pi/5] #wavelengths\n",
        "num=1\n",
        "\n",
        "#Creating headings for the csv file\n",
        "gabor_label=[]\n",
        "for i in range(50):\n",
        "    gabor_label.append('Gabor'+str(i+1))\n",
        "\n",
        "with open('Gabor.csv','a+',newline='') as file:\n",
        "    writer=csv.writer(file)\n",
        "    #writer.writerow(gabor_label)\n",
        "    \n",
        "    for i in range(eo):\n",
        "        img[i] = cv2.cvtColor(img[i] , cv2.COLOR_BGR2GRAY)\n",
        "        #print(\"For image number\"+str(i+1)+'\\n')\n",
        "        local_energy_list=[]\n",
        "        mean_ampl_list=[]\n",
        "        \n",
        "        for theta in theta_list:\n",
        "            #print(\"For theta = \"+str(theta/np.pi)+\"pi\\n\")\n",
        "            \n",
        "            for lamda in lamda_list:\n",
        "                kernel=cv2.getGaborKernel((3,3),sigma,theta,lamda,gamma,phi,ktype=cv2.CV_32F)\n",
        "                fimage = cv2.filter2D(img[i], cv2.CV_8UC3, kernel)\n",
        "                \n",
        "                mean_ampl=np.sum(abs(fimage))\n",
        "                mean_ampl_list.append(mean_ampl)\n",
        "                \n",
        "                local_energy=np.sum(fimage**2)\n",
        "                local_energy_list.append(local_energy)\n",
        "                \n",
        "                num+=1\n",
        "        #print('\\n\\n')\n",
        "        writer.writerow(local_energy_list+mean_ampl_list)\n",
        "\n",
        "toc=time.time()\n",
        "print(\"Computation time is {} seconds\".format(str(toc-tic)))"
      ]
    }
  ]
}